{
 "cells": [
  {
   "cell_type": "code",
   "execution_count": 23,
   "metadata": {
    "colab": {
     "base_uri": "https://localhost:8080/"
    },
    "id": "vAHX3lw5ZWeC",
    "outputId": "f1d5d05f-d561-4925-b166-292fb0d53641"
   },
   "outputs": [],
   "source": [
    "import cv2\n",
    "import mediapipe as mp\n",
    "import numpy as np\n",
    "\n",
    "# initialize mediapipe pose solution\n",
    "mp_pose = mp.solutions.pose\n",
    "mp_draw = mp.solutions.drawing_utils\n",
    "pose = mp_pose.Pose()"
   ]
  },
  {
   "cell_type": "markdown",
   "metadata": {},
   "source": [
    "# POSE ESTIMATION"
   ]
  },
  {
   "cell_type": "code",
   "execution_count": 24,
   "metadata": {},
   "outputs": [],
   "source": [
    "with mp_pose.Pose(min_detection_confidence=0.5, min_tracking_confidence=0.5) as pose:\n",
    "    frame = cv2.imread('C:\\\\Users\\\\sohil\\\\Documents\\\\test\\\\photos\\\\frame143.jpg')\n",
    "        \n",
    "        # Recolor image to RGB\n",
    "    #print(frame)\n",
    "    image = cv2.cvtColor(frame, cv2.COLOR_BGR2RGB)\n",
    "    image.flags.writeable = False\n",
    "      \n",
    "        # Make detection\n",
    "    results = pose.process(image)\n",
    "    \n",
    "        # Recolor back to BGR\n",
    "    image.flags.writeable = True\n",
    "    image = cv2.cvtColor(image, cv2.COLOR_RGB2BGR)\n",
    "        \n",
    "        # Render detections\n",
    "    mp_draw.draw_landmarks(image, results.pose_landmarks, mp_pose.POSE_CONNECTIONS,\n",
    "                            mp_draw.DrawingSpec(color=(245,117,66), thickness=2, circle_radius=2), \n",
    "                            mp_draw.DrawingSpec(color=(245,66,230), thickness=2, circle_radius=2) \n",
    "                                )               \n",
    "        \n",
    "    cv2.imshow('Mediapipe Feed', image)\n",
    "    cv2.waitKey(0)\n",
    "    cv2.destroyAllWindows()"
   ]
  },
  {
   "cell_type": "markdown",
   "metadata": {},
   "source": [
    "# LANDMARK EXTRACTION"
   ]
  },
  {
   "cell_type": "code",
   "execution_count": 3,
   "metadata": {},
   "outputs": [
    {
     "name": "stdout",
     "output_type": "stream",
     "text": [
      "[x: 0.54978967\n",
      "y: 0.32668233\n",
      "z: -0.03166814\n",
      "visibility: 0.99787927\n",
      ", x: 0.5447498\n",
      "y: 0.31045058\n",
      "z: -0.017675744\n",
      "visibility: 0.9972126\n",
      ", x: 0.5436551\n",
      "y: 0.30969352\n",
      "z: -0.017699832\n",
      "visibility: 0.995891\n",
      ", x: 0.54250264\n",
      "y: 0.3087013\n",
      "z: -0.017689563\n",
      "visibility: 0.9969447\n",
      ", x: 0.54311806\n",
      "y: 0.31030387\n",
      "z: -0.048182275\n",
      "visibility: 0.99808586\n",
      ", x: 0.5409209\n",
      "y: 0.3095418\n",
      "z: -0.048187748\n",
      "visibility: 0.99800617\n",
      ", x: 0.5386326\n",
      "y: 0.30852276\n",
      "z: -0.048195913\n",
      "visibility: 0.99845564\n",
      ", x: 0.527147\n",
      "y: 0.3068463\n",
      "z: 0.049691964\n",
      "visibility: 0.9968714\n",
      ", x: 0.5242768\n",
      "y: 0.30719674\n",
      "z: -0.090153284\n",
      "visibility: 0.9978963\n",
      ", x: 0.5438265\n",
      "y: 0.3418291\n",
      "z: -0.00392775\n",
      "visibility: 0.9946413\n",
      ", x: 0.54140157\n",
      "y: 0.34161124\n",
      "z: -0.044662643\n",
      "visibility: 0.996111\n",
      ", x: 0.5100049\n",
      "y: 0.37128687\n",
      "z: 0.11332264\n",
      "visibility: 0.97948337\n",
      ", x: 0.48541117\n",
      "y: 0.35567603\n",
      "z: -0.15208104\n",
      "visibility: 0.9980824\n",
      ", x: 0.5213282\n",
      "y: 0.26512802\n",
      "z: 0.18838727\n",
      "visibility: 0.1674464\n",
      ", x: 0.47761622\n",
      "y: 0.24783136\n",
      "z: -0.30964947\n",
      "visibility: 0.96752757\n",
      ", x: 0.50290316\n",
      "y: 0.1768125\n",
      "z: 0.15830041\n",
      "visibility: 0.2724667\n",
      ", x: 0.4786934\n",
      "y: 0.17549524\n",
      "z: -0.39846316\n",
      "visibility: 0.94068\n",
      ", x: 0.4948156\n",
      "y: 0.15775797\n",
      "z: 0.15431632\n",
      "visibility: 0.30639985\n",
      ", x: 0.47591442\n",
      "y: 0.16003975\n",
      "z: -0.43320101\n",
      "visibility: 0.9266061\n",
      ", x: 0.49483284\n",
      "y: 0.15473497\n",
      "z: 0.14350522\n",
      "visibility: 0.30408183\n",
      ", x: 0.4775777\n",
      "y: 0.15632188\n",
      "z: -0.42558312\n",
      "visibility: 0.91605765\n",
      ", x: 0.49850017\n",
      "y: 0.16286021\n",
      "z: 0.14993678\n",
      "visibility: 0.3154626\n",
      ", x: 0.47811875\n",
      "y: 0.16202554\n",
      "z: -0.39698958\n",
      "visibility: 0.88523394\n",
      ", x: 0.4638432\n",
      "y: 0.59861153\n",
      "z: 0.10149354\n",
      "visibility: 0.9951292\n",
      ", x: 0.45333165\n",
      "y: 0.597787\n",
      "z: -0.101532206\n",
      "visibility: 0.9971379\n",
      ", x: 0.48489267\n",
      "y: 0.7487876\n",
      "z: 0.10579181\n",
      "visibility: 0.1568854\n",
      ", x: 0.48494285\n",
      "y: 0.7618507\n",
      "z: -0.11788534\n",
      "visibility: 0.94270533\n",
      ", x: 0.45073614\n",
      "y: 0.8889953\n",
      "z: 0.14733474\n",
      "visibility: 0.2539398\n",
      ", x: 0.446629\n",
      "y: 0.9220953\n",
      "z: -0.10223973\n",
      "visibility: 0.92021894\n",
      ", x: 0.4390456\n",
      "y: 0.9281441\n",
      "z: 0.14645064\n",
      "visibility: 0.3947732\n",
      ", x: 0.43205923\n",
      "y: 0.9522966\n",
      "z: -0.10443588\n",
      "visibility: 0.9186261\n",
      ", x: 0.48651797\n",
      "y: 0.9353144\n",
      "z: 0.106338345\n",
      "visibility: 0.35021642\n",
      ", x: 0.49065614\n",
      "y: 0.951376\n",
      "z: -0.17771293\n",
      "visibility: 0.8663967\n",
      "]\n"
     ]
    },
    {
     "ename": "NameError",
     "evalue": "name 'mp_drawing' is not defined",
     "output_type": "error",
     "traceback": [
      "\u001b[1;31m---------------------------------------------------------------------------\u001b[0m",
      "\u001b[1;31mNameError\u001b[0m                                 Traceback (most recent call last)",
      "\u001b[1;32m~\\AppData\\Local\\Temp/ipykernel_15468/3604751616.py\u001b[0m in \u001b[0;36m<module>\u001b[1;34m\u001b[0m\n\u001b[0;32m     22\u001b[0m \u001b[1;33m\u001b[0m\u001b[0m\n\u001b[0;32m     23\u001b[0m         \u001b[1;31m# Render detections\u001b[0m\u001b[1;33m\u001b[0m\u001b[1;33m\u001b[0m\u001b[1;33m\u001b[0m\u001b[0m\n\u001b[1;32m---> 24\u001b[1;33m     mp_drawing.draw_landmarks(image, results.pose_landmarks, mp_pose.POSE_CONNECTIONS,\n\u001b[0m\u001b[0;32m     25\u001b[0m                             \u001b[0mmp_drawing\u001b[0m\u001b[1;33m.\u001b[0m\u001b[0mDrawingSpec\u001b[0m\u001b[1;33m(\u001b[0m\u001b[0mcolor\u001b[0m\u001b[1;33m=\u001b[0m\u001b[1;33m(\u001b[0m\u001b[1;36m245\u001b[0m\u001b[1;33m,\u001b[0m\u001b[1;36m117\u001b[0m\u001b[1;33m,\u001b[0m\u001b[1;36m66\u001b[0m\u001b[1;33m)\u001b[0m\u001b[1;33m,\u001b[0m \u001b[0mthickness\u001b[0m\u001b[1;33m=\u001b[0m\u001b[1;36m2\u001b[0m\u001b[1;33m,\u001b[0m \u001b[0mcircle_radius\u001b[0m\u001b[1;33m=\u001b[0m\u001b[1;36m2\u001b[0m\u001b[1;33m)\u001b[0m\u001b[1;33m,\u001b[0m\u001b[1;33m\u001b[0m\u001b[1;33m\u001b[0m\u001b[0m\n\u001b[0;32m     26\u001b[0m                             \u001b[0mmp_drawing\u001b[0m\u001b[1;33m.\u001b[0m\u001b[0mDrawingSpec\u001b[0m\u001b[1;33m(\u001b[0m\u001b[0mcolor\u001b[0m\u001b[1;33m=\u001b[0m\u001b[1;33m(\u001b[0m\u001b[1;36m245\u001b[0m\u001b[1;33m,\u001b[0m\u001b[1;36m66\u001b[0m\u001b[1;33m,\u001b[0m\u001b[1;36m230\u001b[0m\u001b[1;33m)\u001b[0m\u001b[1;33m,\u001b[0m \u001b[0mthickness\u001b[0m\u001b[1;33m=\u001b[0m\u001b[1;36m2\u001b[0m\u001b[1;33m,\u001b[0m \u001b[0mcircle_radius\u001b[0m\u001b[1;33m=\u001b[0m\u001b[1;36m2\u001b[0m\u001b[1;33m)\u001b[0m\u001b[1;33m\u001b[0m\u001b[1;33m\u001b[0m\u001b[0m\n",
      "\u001b[1;31mNameError\u001b[0m: name 'mp_drawing' is not defined"
     ]
    }
   ],
   "source": [
    "with mp_pose.Pose(min_detection_confidence=0.5, min_tracking_confidence=0.5) as pose:\n",
    "    frame = cv2.imread('C:\\\\Users\\\\sohil\\\\Documents\\\\test\\\\photos\\\\frame143.jpg')\n",
    "        \n",
    "        # Recolor image to RGB\n",
    "    image = cv2.cvtColor(frame, cv2.COLOR_BGR2RGB)\n",
    "    image.flags.writeable = False\n",
    "      \n",
    "        # Make detection\n",
    "    results = pose.process(image)\n",
    "    \n",
    "        # Recolor back to BGR\n",
    "    image.flags.writeable = True\n",
    "    image = cv2.cvtColor(image, cv2.COLOR_RGB2BGR)\n",
    "        \n",
    "        # Extract landmarks\n",
    "    try:\n",
    "        landmarks = results.pose_landmarks.landmark\n",
    "        print(landmarks)\n",
    "    except:\n",
    "        pass\n",
    "        \n",
    "        \n",
    "        # Render detections\n",
    "    mp_drawing.draw_landmarks(image, results.pose_landmarks, mp_pose.POSE_CONNECTIONS,\n",
    "                            mp_drawing.DrawingSpec(color=(245,117,66), thickness=2, circle_radius=2), \n",
    "                            mp_drawing.DrawingSpec(color=(245,66,230), thickness=2, circle_radius=2) \n",
    "                                )               \n",
    "        \n",
    "    cv2.imshow('Mediapipe Feed', image)\n",
    "    cv2.waitKey(0)\n",
    "    cv2.destroyAllWindows()"
   ]
  },
  {
   "cell_type": "markdown",
   "metadata": {},
   "source": [
    "# Calculate Angle"
   ]
  },
  {
   "cell_type": "code",
   "execution_count": 4,
   "metadata": {},
   "outputs": [],
   "source": [
    "def calculate_angle(a,b,c):\n",
    "    a = np.array(a) # First\n",
    "    b = np.array(b) # Mid\n",
    "    c = np.array(c) # End\n",
    "    \n",
    "    radians = np.arctan2(c[1]-b[1], c[0]-b[0]) - np.arctan2(a[1]-b[1], a[0]-b[0])\n",
    "    angle = np.abs(radians*180.0/np.pi)\n",
    "    \n",
    "    if angle >180.0:\n",
    "        angle = 360-angle\n",
    "        \n",
    "    return angle"
   ]
  },
  {
   "cell_type": "markdown",
   "metadata": {},
   "source": [
    "# RIGHT KNEE"
   ]
  },
  {
   "cell_type": "code",
   "execution_count": 5,
   "metadata": {},
   "outputs": [],
   "source": [
    "rhip = [landmarks[mp_pose.PoseLandmark.RIGHT_HIP.value].x,landmarks[mp_pose.PoseLandmark.RIGHT_HIP.value].y]\n",
    "rknee = [landmarks[mp_pose.PoseLandmark.RIGHT_KNEE.value].x,landmarks[mp_pose.PoseLandmark.RIGHT_KNEE.value].y]\n",
    "rankle = [landmarks[mp_pose.PoseLandmark.RIGHT_ANKLE.value].x,landmarks[mp_pose.PoseLandmark.RIGHT_ANKLE.value].y]"
   ]
  },
  {
   "cell_type": "code",
   "execution_count": 6,
   "metadata": {},
   "outputs": [
    {
     "data": {
      "text/plain": [
       "([0.4533316493034363, 0.5977870225906372],\n",
       " [0.48494285345077515, 0.7618507146835327],\n",
       " [0.44662898778915405, 0.9220952987670898])"
      ]
     },
     "execution_count": 6,
     "metadata": {},
     "output_type": "execute_result"
    }
   ],
   "source": [
    "rhip,rknee,rankle"
   ]
  },
  {
   "cell_type": "code",
   "execution_count": 7,
   "metadata": {},
   "outputs": [
    {
     "data": {
      "text/plain": [
       "155.6473436968034"
      ]
     },
     "execution_count": 7,
     "metadata": {},
     "output_type": "execute_result"
    }
   ],
   "source": [
    "calculate_angle(rhip,rknee,rankle)"
   ]
  },
  {
   "cell_type": "markdown",
   "metadata": {},
   "source": [
    "# LEFT KNEE"
   ]
  },
  {
   "cell_type": "code",
   "execution_count": 12,
   "metadata": {},
   "outputs": [],
   "source": [
    "lhip = [landmarks[mp_pose.PoseLandmark.LEFT_HIP.value].x,landmarks[mp_pose.PoseLandmark.LEFT_HIP.value].y]\n",
    "lknee = [landmarks[mp_pose.PoseLandmark.LEFT_KNEE.value].x,landmarks[mp_pose.PoseLandmark.LEFT_KNEE.value].y]\n",
    "lankle = [landmarks[mp_pose.PoseLandmark.LEFT_ANKLE.value].x,landmarks[mp_pose.PoseLandmark.LEFT_ANKLE.value].y]"
   ]
  },
  {
   "cell_type": "code",
   "execution_count": 13,
   "metadata": {},
   "outputs": [
    {
     "data": {
      "text/plain": [
       "([0.4638431966304779, 0.5986115336418152],\n",
       " [0.48489266633987427, 0.7487875819206238],\n",
       " [0.4507361352443695, 0.8889952898025513])"
      ]
     },
     "execution_count": 13,
     "metadata": {},
     "output_type": "execute_result"
    }
   ],
   "source": [
    "lhip,lknee,lankle"
   ]
  },
  {
   "cell_type": "code",
   "execution_count": 14,
   "metadata": {},
   "outputs": [
    {
     "data": {
      "text/plain": [
       "158.3297511245536"
      ]
     },
     "execution_count": 14,
     "metadata": {},
     "output_type": "execute_result"
    }
   ],
   "source": [
    "calculate_angle(lhip,lknee,lankle)"
   ]
  },
  {
   "cell_type": "markdown",
   "metadata": {},
   "source": [
    "# RIGHT ANKLE"
   ]
  },
  {
   "cell_type": "code",
   "execution_count": 15,
   "metadata": {},
   "outputs": [],
   "source": [
    "rknee = [landmarks[mp_pose.PoseLandmark.RIGHT_KNEE.value].x,landmarks[mp_pose.PoseLandmark.RIGHT_KNEE.value].y]\n",
    "rankle = [landmarks[mp_pose.PoseLandmark.RIGHT_ANKLE.value].x,landmarks[mp_pose.PoseLandmark.RIGHT_ANKLE.value].y]\n",
    "rfoot = [landmarks[mp_pose.PoseLandmark.RIGHT_FOOT_INDEX.value].x,landmarks[mp_pose.PoseLandmark.RIGHT_FOOT_INDEX.value].y]"
   ]
  },
  {
   "cell_type": "code",
   "execution_count": 16,
   "metadata": {},
   "outputs": [
    {
     "data": {
      "text/plain": [
       "([0.48494285345077515, 0.7618507146835327],\n",
       " [0.44662898778915405, 0.9220952987670898],\n",
       " [0.49065613746643066, 0.9513760209083557])"
      ]
     },
     "execution_count": 16,
     "metadata": {},
     "output_type": "execute_result"
    }
   ],
   "source": [
    "rknee,rankle,rfoot"
   ]
  },
  {
   "cell_type": "code",
   "execution_count": 17,
   "metadata": {},
   "outputs": [
    {
     "data": {
      "text/plain": [
       "110.17955538139094"
      ]
     },
     "execution_count": 17,
     "metadata": {},
     "output_type": "execute_result"
    }
   ],
   "source": [
    "calculate_angle(rknee,rankle,rfoot)"
   ]
  },
  {
   "cell_type": "markdown",
   "metadata": {},
   "source": [
    "# LEFT ANKLE"
   ]
  },
  {
   "cell_type": "code",
   "execution_count": 18,
   "metadata": {},
   "outputs": [],
   "source": [
    "lknee = [landmarks[mp_pose.PoseLandmark.LEFT_KNEE.value].x,landmarks[mp_pose.PoseLandmark.LEFT_KNEE.value].y]\n",
    "lankle = [landmarks[mp_pose.PoseLandmark.LEFT_ANKLE.value].x,landmarks[mp_pose.PoseLandmark.LEFT_ANKLE.value].y]\n",
    "lfoot = [landmarks[mp_pose.PoseLandmark.LEFT_FOOT_INDEX.value].x,landmarks[mp_pose.PoseLandmark.LEFT_FOOT_INDEX.value].y]"
   ]
  },
  {
   "cell_type": "code",
   "execution_count": 19,
   "metadata": {},
   "outputs": [
    {
     "data": {
      "text/plain": [
       "([0.48489266633987427, 0.7487875819206238],\n",
       " [0.4507361352443695, 0.8889952898025513],\n",
       " [0.4865179657936096, 0.935314416885376])"
      ]
     },
     "execution_count": 19,
     "metadata": {},
     "output_type": "execute_result"
    }
   ],
   "source": [
    "lknee,lankle,lfoot"
   ]
  },
  {
   "cell_type": "code",
   "execution_count": 20,
   "metadata": {},
   "outputs": [
    {
     "data": {
      "text/plain": [
       "128.62232739917994"
      ]
     },
     "execution_count": 20,
     "metadata": {},
     "output_type": "execute_result"
    }
   ],
   "source": [
    "calculate_angle(lknee,lankle,lfoot)"
   ]
  },
  {
   "cell_type": "code",
   "execution_count": null,
   "metadata": {},
   "outputs": [],
   "source": []
  }
 ],
 "metadata": {
  "colab": {
   "name": "Untitled0.ipynb",
   "provenance": []
  },
  "kernelspec": {
   "display_name": "Python 3 (ipykernel)",
   "language": "python",
   "name": "python3"
  },
  "language_info": {
   "codemirror_mode": {
    "name": "ipython",
    "version": 3
   },
   "file_extension": ".py",
   "mimetype": "text/x-python",
   "name": "python",
   "nbconvert_exporter": "python",
   "pygments_lexer": "ipython3",
   "version": "3.8.6rc1"
  }
 },
 "nbformat": 4,
 "nbformat_minor": 1
}
